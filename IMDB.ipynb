{
  "nbformat": 4,
  "nbformat_minor": 0,
  "metadata": {
    "kernelspec": {
      "display_name": "Python 3",
      "language": "python",
      "name": "python3"
    },
    "language_info": {
      "codemirror_mode": {
        "name": "ipython",
        "version": 3
      },
      "file_extension": ".py",
      "mimetype": "text/x-python",
      "name": "python",
      "nbconvert_exporter": "python",
      "pygments_lexer": "ipython3",
      "version": "3.6.9"
    },
    "colab": {
      "provenance": [],
      "include_colab_link": true
    }
  },
  "cells": [
    {
      "cell_type": "markdown",
      "metadata": {
        "id": "view-in-github",
        "colab_type": "text"
      },
      "source": [
        "<a href=\"https://colab.research.google.com/github/xu62u4u6/IMDB/blob/main/IMDB.ipynb\" target=\"_parent\"><img src=\"https://colab.research.google.com/assets/colab-badge.svg\" alt=\"Open In Colab\"/></a>"
      ]
    },
    {
      "cell_type": "code",
      "metadata": {
        "id": "Y5x1J0p1lX3s",
        "colab": {
          "base_uri": "https://localhost:8080/"
        },
        "outputId": "b52b6e00-54ab-4892-f17c-59adb1cb8989"
      },
      "source": [
        "import pandas as pd\n",
        "import numpy as np\n",
        "import matplotlib.pyplot as plt\n",
        "import os\n",
        "from os.path import join as os_join\n",
        "plt.style.use(\"seaborn\")"
      ],
      "execution_count": 1,
      "outputs": [
        {
          "output_type": "stream",
          "name": "stderr",
          "text": [
            "<ipython-input-1-8674f51a0f26>:6: MatplotlibDeprecationWarning: The seaborn styles shipped by Matplotlib are deprecated since 3.6, as they no longer correspond to the styles shipped by seaborn. However, they will remain available as 'seaborn-v0_8-<style>'. Alternatively, directly use the seaborn API instead.\n",
            "  plt.style.use(\"seaborn\")\n"
          ]
        }
      ]
    },
    {
      "cell_type": "code",
      "metadata": {
        "colab": {
          "base_uri": "https://localhost:8080/"
        },
        "id": "771sOwfclX39",
        "outputId": "0447e505-80dc-4870-e598-b6ce8661f18b"
      },
      "source": [
        "# mount google drive\n",
        "from google.colab import drive\n",
        "drive.mount('/content/drive')\n",
        "os.chdir(\"/content/drive/MyDrive/code/資料分析/IMDB\")"
      ],
      "execution_count": 2,
      "outputs": [
        {
          "output_type": "stream",
          "name": "stdout",
          "text": [
            "Mounted at /content/drive\n"
          ]
        }
      ]
    },
    {
      "cell_type": "code",
      "source": [
        "# can download data from https://datasets.imdbws.com/\n",
        "!cd data/\n",
        "!wget https://datasets.imdbws.com/title.basics.tsv.gz\n",
        "!wget https://datasets.imdbws.com/title.ratings.tsv.gz"
      ],
      "metadata": {
        "id": "aLqYn3tnpLMe"
      },
      "execution_count": null,
      "outputs": []
    },
    {
      "cell_type": "code",
      "metadata": {
        "id": "qQn1d7SplX3-",
        "colab": {
          "base_uri": "https://localhost:8080/"
        },
        "outputId": "5af042e2-54ba-40d7-b8c6-3983a4f5a09f"
      },
      "source": [
        "title_basics = pd.read_csv(\"data/title.basics.tsv.gz\", sep=\"\\t\")\n",
        "title_ratings = pd.read_csv(\"data/title.ratings.tsv.gz\", sep=\"\\t\")"
      ],
      "execution_count": 3,
      "outputs": [
        {
          "output_type": "stream",
          "name": "stderr",
          "text": [
            "<ipython-input-3-304a3e079f32>:1: DtypeWarning: Columns (5) have mixed types. Specify dtype option on import or set low_memory=False.\n",
            "  title_basics = pd.read_csv(\"data/title.basics.tsv.gz\", sep=\"\\t\")\n"
          ]
        }
      ]
    },
    {
      "cell_type": "code",
      "metadata": {
        "id": "QP7r50s9lX3_"
      },
      "source": [
        "df = pd.merge(title_basics, title_ratings, on='tconst')"
      ],
      "execution_count": 4,
      "outputs": []
    },
    {
      "cell_type": "code",
      "metadata": {
        "colab": {
          "base_uri": "https://localhost:8080/",
          "height": 242
        },
        "id": "vizMCAj5lX4A",
        "outputId": "99765eaf-2033-4de8-c9d7-63ecf927a557"
      },
      "source": [
        "# 將tconst中tt去除，並設為index\n",
        "df.index = df.tconst.apply(lambda x: int(x.split(\"tt\")[1]))\n",
        "df = df.drop(\"tconst\", axis=1)\n",
        "df.index.name = \"ID\"\n",
        "df.head()"
      ],
      "execution_count": null,
      "outputs": [
        {
          "output_type": "execute_result",
          "data": {
            "text/html": [
              "<div>\n",
              "<style scoped>\n",
              "    .dataframe tbody tr th:only-of-type {\n",
              "        vertical-align: middle;\n",
              "    }\n",
              "\n",
              "    .dataframe tbody tr th {\n",
              "        vertical-align: top;\n",
              "    }\n",
              "\n",
              "    .dataframe thead th {\n",
              "        text-align: right;\n",
              "    }\n",
              "</style>\n",
              "<table border=\"1\" class=\"dataframe\">\n",
              "  <thead>\n",
              "    <tr style=\"text-align: right;\">\n",
              "      <th></th>\n",
              "      <th>titleType</th>\n",
              "      <th>primaryTitle</th>\n",
              "      <th>originalTitle</th>\n",
              "      <th>isAdult</th>\n",
              "      <th>startYear</th>\n",
              "      <th>endYear</th>\n",
              "      <th>runtimeMinutes</th>\n",
              "      <th>genres</th>\n",
              "      <th>averageRating</th>\n",
              "      <th>numVotes</th>\n",
              "    </tr>\n",
              "    <tr>\n",
              "      <th>ID</th>\n",
              "      <th></th>\n",
              "      <th></th>\n",
              "      <th></th>\n",
              "      <th></th>\n",
              "      <th></th>\n",
              "      <th></th>\n",
              "      <th></th>\n",
              "      <th></th>\n",
              "      <th></th>\n",
              "      <th></th>\n",
              "    </tr>\n",
              "  </thead>\n",
              "  <tbody>\n",
              "    <tr>\n",
              "      <th>1</th>\n",
              "      <td>short</td>\n",
              "      <td>Carmencita</td>\n",
              "      <td>Carmencita</td>\n",
              "      <td>0</td>\n",
              "      <td>1894</td>\n",
              "      <td>\\N</td>\n",
              "      <td>1</td>\n",
              "      <td>Documentary,Short</td>\n",
              "      <td>5.6</td>\n",
              "      <td>1664</td>\n",
              "    </tr>\n",
              "    <tr>\n",
              "      <th>2</th>\n",
              "      <td>short</td>\n",
              "      <td>Le clown et ses chiens</td>\n",
              "      <td>Le clown et ses chiens</td>\n",
              "      <td>0</td>\n",
              "      <td>1892</td>\n",
              "      <td>\\N</td>\n",
              "      <td>5</td>\n",
              "      <td>Animation,Short</td>\n",
              "      <td>6.1</td>\n",
              "      <td>206</td>\n",
              "    </tr>\n",
              "    <tr>\n",
              "      <th>3</th>\n",
              "      <td>short</td>\n",
              "      <td>Pauvre Pierrot</td>\n",
              "      <td>Pauvre Pierrot</td>\n",
              "      <td>0</td>\n",
              "      <td>1892</td>\n",
              "      <td>\\N</td>\n",
              "      <td>4</td>\n",
              "      <td>Animation,Comedy,Romance</td>\n",
              "      <td>6.5</td>\n",
              "      <td>1382</td>\n",
              "    </tr>\n",
              "    <tr>\n",
              "      <th>4</th>\n",
              "      <td>short</td>\n",
              "      <td>Un bon bock</td>\n",
              "      <td>Un bon bock</td>\n",
              "      <td>0</td>\n",
              "      <td>1892</td>\n",
              "      <td>\\N</td>\n",
              "      <td>12</td>\n",
              "      <td>Animation,Short</td>\n",
              "      <td>6.2</td>\n",
              "      <td>123</td>\n",
              "    </tr>\n",
              "    <tr>\n",
              "      <th>5</th>\n",
              "      <td>short</td>\n",
              "      <td>Blacksmith Scene</td>\n",
              "      <td>Blacksmith Scene</td>\n",
              "      <td>0</td>\n",
              "      <td>1893</td>\n",
              "      <td>\\N</td>\n",
              "      <td>1</td>\n",
              "      <td>Comedy,Short</td>\n",
              "      <td>6.2</td>\n",
              "      <td>2168</td>\n",
              "    </tr>\n",
              "  </tbody>\n",
              "</table>\n",
              "</div>"
            ],
            "text/plain": [
              "   titleType            primaryTitle  ... averageRating  numVotes\n",
              "ID                                    ...                        \n",
              "1      short              Carmencita  ...           5.6      1664\n",
              "2      short  Le clown et ses chiens  ...           6.1       206\n",
              "3      short          Pauvre Pierrot  ...           6.5      1382\n",
              "4      short             Un bon bock  ...           6.2       123\n",
              "5      short        Blacksmith Scene  ...           6.2      2168\n",
              "\n",
              "[5 rows x 10 columns]"
            ]
          },
          "metadata": {
            "tags": []
          },
          "execution_count": 68
        }
      ]
    },
    {
      "cell_type": "code",
      "metadata": {
        "colab": {
          "base_uri": "https://localhost:8080/"
        },
        "id": "rlq5ftjum9wX",
        "outputId": "a319b1b3-fe4d-498d-cb1d-2a693975b8e9"
      },
      "source": [
        "# 查看各類別數量\n",
        "gb = df.groupby(\"titleType\")\n",
        "gb.size()"
      ],
      "execution_count": null,
      "outputs": [
        {
          "output_type": "execute_result",
          "data": {
            "text/plain": [
              "titleType\n",
              "audiobook            1\n",
              "movie           256557\n",
              "radioSeries          1\n",
              "short           127301\n",
              "tvEpisode       503143\n",
              "tvMiniSeries     10932\n",
              "tvMovie          42131\n",
              "tvSeries         72325\n",
              "tvShort           5914\n",
              "tvSpecial         9288\n",
              "video            59211\n",
              "videoGame        11487\n",
              "dtype: int64"
            ]
          },
          "metadata": {
            "tags": []
          },
          "execution_count": 69
        }
      ]
    },
    {
      "cell_type": "code",
      "metadata": {
        "id": "BWCr6I1QlX4B"
      },
      "source": [
        "# 種類太多，這邊只取movie\n",
        "df = df[df.titleType == \"movie\"]"
      ],
      "execution_count": null,
      "outputs": []
    },
    {
      "cell_type": "code",
      "metadata": {
        "colab": {
          "base_uri": "https://localhost:8080/"
        },
        "id": "mieo1xHAlX4D",
        "outputId": "7f2251c0-11cc-4212-bc09-b86716931acb"
      },
      "source": [
        "df.numVotes.describe().round(2) # 查看投票人數分布狀況，可以發現最大值大得誇張"
      ],
      "execution_count": null,
      "outputs": [
        {
          "output_type": "execute_result",
          "data": {
            "text/plain": [
              "count     256557.00\n",
              "mean        3306.75\n",
              "std        31764.15\n",
              "min            5.00\n",
              "25%           14.00\n",
              "50%           48.00\n",
              "75%          261.00\n",
              "max      2312613.00\n",
              "Name: numVotes, dtype: float64"
            ]
          },
          "metadata": {
            "tags": []
          },
          "execution_count": 71
        }
      ]
    },
    {
      "cell_type": "code",
      "metadata": {
        "colab": {
          "base_uri": "https://localhost:8080/",
          "height": 358
        },
        "id": "QzVEoNRapEoe",
        "outputId": "98db3786-909e-401b-8e3c-a15c08a7fcf2"
      },
      "source": [
        "plt.boxplot(df.numVotes)\n",
        "plt.show()"
      ],
      "execution_count": null,
      "outputs": [
        {
          "output_type": "display_data",
          "data": {
            "image/png": "[encoded data removed]",
            "text/plain": [
              "<Figure size 576x396 with 1 Axes>"
            ]
          },
          "metadata": {
            "tags": []
          }
        }
      ]
    },
    {
      "cell_type": "code",
      "metadata": {
        "colab": {
          "base_uri": "https://localhost:8080/",
          "height": 106
        },
        "id": "BqGrFMYlpBAG",
        "outputId": "23b310d9-3535-40a1-e37b-504b757a36b9"
      },
      "source": [
        "df[df.numVotes == df.numVotes.max()]  # 最高票果不其然是刺激1995"
      ],
      "execution_count": null,
      "outputs": [
        {
          "output_type": "execute_result",
          "data": {
            "text/html": [
              "<div>\n",
              "<style scoped>\n",
              "    .dataframe tbody tr th:only-of-type {\n",
              "        vertical-align: middle;\n",
              "    }\n",
              "\n",
              "    .dataframe tbody tr th {\n",
              "        vertical-align: top;\n",
              "    }\n",
              "\n",
              "    .dataframe thead th {\n",
              "        text-align: right;\n",
              "    }\n",
              "</style>\n",
              "<table border=\"1\" class=\"dataframe\">\n",
              "  <thead>\n",
              "    <tr style=\"text-align: right;\">\n",
              "      <th></th>\n",
              "      <th>titleType</th>\n",
              "      <th>primaryTitle</th>\n",
              "      <th>originalTitle</th>\n",
              "      <th>isAdult</th>\n",
              "      <th>startYear</th>\n",
              "      <th>endYear</th>\n",
              "      <th>runtimeMinutes</th>\n",
              "      <th>genres</th>\n",
              "      <th>averageRating</th>\n",
              "      <th>numVotes</th>\n",
              "    </tr>\n",
              "    <tr>\n",
              "      <th>ID</th>\n",
              "      <th></th>\n",
              "      <th></th>\n",
              "      <th></th>\n",
              "      <th></th>\n",
              "      <th></th>\n",
              "      <th></th>\n",
              "      <th></th>\n",
              "      <th></th>\n",
              "      <th></th>\n",
              "      <th></th>\n",
              "    </tr>\n",
              "  </thead>\n",
              "  <tbody>\n",
              "    <tr>\n",
              "      <th>111161</th>\n",
              "      <td>movie</td>\n",
              "      <td>The Shawshank Redemption</td>\n",
              "      <td>The Shawshank Redemption</td>\n",
              "      <td>0</td>\n",
              "      <td>1994</td>\n",
              "      <td>\\N</td>\n",
              "      <td>142</td>\n",
              "      <td>Drama</td>\n",
              "      <td>9.3</td>\n",
              "      <td>2312613</td>\n",
              "    </tr>\n",
              "  </tbody>\n",
              "</table>\n",
              "</div>"
            ],
            "text/plain": [
              "       titleType              primaryTitle  ... averageRating  numVotes\n",
              "ID                                          ...                        \n",
              "111161     movie  The Shawshank Redemption  ...           9.3   2312613\n",
              "\n",
              "[1 rows x 10 columns]"
            ]
          },
          "metadata": {
            "tags": []
          },
          "execution_count": 73
        }
      ]
    },
    {
      "cell_type": "code",
      "metadata": {
        "colab": {
          "base_uri": "https://localhost:8080/"
        },
        "id": "toviIyL6oE4k",
        "outputId": "608236b2-cfbe-4ad6-fe9e-1bef32bf6999"
      },
      "source": [
        "df.averageRating.describe().round(2) # 平均得分的分布"
      ],
      "execution_count": null,
      "outputs": [
        {
          "output_type": "execute_result",
          "data": {
            "text/plain": [
              "count    256557.00\n",
              "mean          6.13\n",
              "std           1.33\n",
              "min           1.00\n",
              "25%           5.40\n",
              "50%           6.30\n",
              "75%           7.00\n",
              "max          10.00\n",
              "Name: averageRating, dtype: float64"
            ]
          },
          "metadata": {
            "tags": []
          },
          "execution_count": 74
        }
      ]
    },
    {
      "cell_type": "code",
      "metadata": {
        "colab": {
          "base_uri": "https://localhost:8080/",
          "height": 347
        },
        "id": "2My8BThNlX4F",
        "outputId": "13af8fe1-4c24-41d5-f463-c8feb6d19578"
      },
      "source": [
        "plt.boxplot(df.averageRating)\n",
        "plt.show()"
      ],
      "execution_count": null,
      "outputs": [
        {
          "output_type": "display_data",
          "data": {
            "image/png": "[encoded data removed]",
            "text/plain": [
              "<Figure size 576x396 with 1 Axes>"
            ]
          },
          "metadata": {
            "tags": []
          }
        }
      ]
    },
    {
      "cell_type": "code",
      "metadata": {
        "id": "8GS8CgXblX4I"
      },
      "source": [
        "df = df[df.startYear != \"\\\\N\"] # 去除沒有年份資料"
      ],
      "execution_count": null,
      "outputs": []
    },
    {
      "cell_type": "code",
      "metadata": {
        "id": "V5rZ29BYlX4I"
      },
      "source": [
        "df.startYear = df.startYear.astype(np.int64) # 年份轉成int"
      ],
      "execution_count": null,
      "outputs": []
    },
    {
      "cell_type": "code",
      "metadata": {
        "id": "yzu81-6mlX4J"
      },
      "source": [
        "df = df[df.startYear > 1970] # 去除1970年以前的片，因投票和評價易失真"
      ],
      "execution_count": null,
      "outputs": []
    },
    {
      "cell_type": "code",
      "metadata": {
        "colab": {
          "base_uri": "https://localhost:8080/"
        },
        "id": "ZQx3B5yylX4J",
        "outputId": "5418f482-1521-4eb3-96ee-85dcc4e527ae"
      },
      "source": [
        "df.startYear.describe()"
      ],
      "execution_count": null,
      "outputs": [
        {
          "output_type": "execute_result",
          "data": {
            "text/plain": [
              "count    203400.000000\n",
              "mean       2002.968668\n",
              "std          13.930035\n",
              "min        1971.000000\n",
              "25%        1993.000000\n",
              "50%        2008.000000\n",
              "75%        2014.000000\n",
              "max        2021.000000\n",
              "Name: startYear, dtype: float64"
            ]
          },
          "metadata": {
            "tags": []
          },
          "execution_count": 79
        }
      ]
    },
    {
      "cell_type": "code",
      "metadata": {
        "colab": {
          "base_uri": "https://localhost:8080/"
        },
        "id": "g_H_X9VQlX4J",
        "outputId": "c3912834-1684-40b6-d7f2-93863fcc5ac8"
      },
      "source": [
        "df.averageRating.describe()"
      ],
      "execution_count": null,
      "outputs": [
        {
          "output_type": "execute_result",
          "data": {
            "text/plain": [
              "count    203400.000000\n",
              "mean          6.131414\n",
              "std           1.394841\n",
              "min           1.000000\n",
              "25%           5.300000\n",
              "50%           6.300000\n",
              "75%           7.100000\n",
              "max          10.000000\n",
              "Name: averageRating, dtype: float64"
            ]
          },
          "metadata": {
            "tags": []
          },
          "execution_count": 80
        }
      ]
    },
    {
      "cell_type": "code",
      "metadata": {
        "colab": {
          "base_uri": "https://localhost:8080/",
          "height": 77
        },
        "id": "E3cw5RpSlX4K",
        "outputId": "ba9a5e32-a0a0-412d-bdf4-6b81c88bd067"
      },
      "source": [
        "df[df.averageRating == \"\\\\N\"]"
      ],
      "execution_count": null,
      "outputs": [
        {
          "output_type": "execute_result",
          "data": {
            "text/html": [
              "<div>\n",
              "<style scoped>\n",
              "    .dataframe tbody tr th:only-of-type {\n",
              "        vertical-align: middle;\n",
              "    }\n",
              "\n",
              "    .dataframe tbody tr th {\n",
              "        vertical-align: top;\n",
              "    }\n",
              "\n",
              "    .dataframe thead th {\n",
              "        text-align: right;\n",
              "    }\n",
              "</style>\n",
              "<table border=\"1\" class=\"dataframe\">\n",
              "  <thead>\n",
              "    <tr style=\"text-align: right;\">\n",
              "      <th></th>\n",
              "      <th>titleType</th>\n",
              "      <th>primaryTitle</th>\n",
              "      <th>originalTitle</th>\n",
              "      <th>isAdult</th>\n",
              "      <th>startYear</th>\n",
              "      <th>endYear</th>\n",
              "      <th>runtimeMinutes</th>\n",
              "      <th>genres</th>\n",
              "      <th>averageRating</th>\n",
              "      <th>numVotes</th>\n",
              "    </tr>\n",
              "    <tr>\n",
              "      <th>ID</th>\n",
              "      <th></th>\n",
              "      <th></th>\n",
              "      <th></th>\n",
              "      <th></th>\n",
              "      <th></th>\n",
              "      <th></th>\n",
              "      <th></th>\n",
              "      <th></th>\n",
              "      <th></th>\n",
              "      <th></th>\n",
              "    </tr>\n",
              "  </thead>\n",
              "  <tbody>\n",
              "  </tbody>\n",
              "</table>\n",
              "</div>"
            ],
            "text/plain": [
              "Empty DataFrame\n",
              "Columns: [titleType, primaryTitle, originalTitle, isAdult, startYear, endYear, runtimeMinutes, genres, averageRating, numVotes]\n",
              "Index: []"
            ]
          },
          "metadata": {
            "tags": []
          },
          "execution_count": 81
        }
      ]
    },
    {
      "cell_type": "code",
      "metadata": {
        "colab": {
          "base_uri": "https://localhost:8080/",
          "height": 77
        },
        "id": "5Sau9eUKlX4K",
        "outputId": "802acedb-5b34-4aef-ad68-ada6892ddce0"
      },
      "source": [
        "df[df.numVotes == \"\\\\N\"]"
      ],
      "execution_count": null,
      "outputs": [
        {
          "output_type": "execute_result",
          "data": {
            "text/html": [
              "<div>\n",
              "<style scoped>\n",
              "    .dataframe tbody tr th:only-of-type {\n",
              "        vertical-align: middle;\n",
              "    }\n",
              "\n",
              "    .dataframe tbody tr th {\n",
              "        vertical-align: top;\n",
              "    }\n",
              "\n",
              "    .dataframe thead th {\n",
              "        text-align: right;\n",
              "    }\n",
              "</style>\n",
              "<table border=\"1\" class=\"dataframe\">\n",
              "  <thead>\n",
              "    <tr style=\"text-align: right;\">\n",
              "      <th></th>\n",
              "      <th>titleType</th>\n",
              "      <th>primaryTitle</th>\n",
              "      <th>originalTitle</th>\n",
              "      <th>isAdult</th>\n",
              "      <th>startYear</th>\n",
              "      <th>endYear</th>\n",
              "      <th>runtimeMinutes</th>\n",
              "      <th>genres</th>\n",
              "      <th>averageRating</th>\n",
              "      <th>numVotes</th>\n",
              "    </tr>\n",
              "    <tr>\n",
              "      <th>ID</th>\n",
              "      <th></th>\n",
              "      <th></th>\n",
              "      <th></th>\n",
              "      <th></th>\n",
              "      <th></th>\n",
              "      <th></th>\n",
              "      <th></th>\n",
              "      <th></th>\n",
              "      <th></th>\n",
              "      <th></th>\n",
              "    </tr>\n",
              "  </thead>\n",
              "  <tbody>\n",
              "  </tbody>\n",
              "</table>\n",
              "</div>"
            ],
            "text/plain": [
              "Empty DataFrame\n",
              "Columns: [titleType, primaryTitle, originalTitle, isAdult, startYear, endYear, runtimeMinutes, genres, averageRating, numVotes]\n",
              "Index: []"
            ]
          },
          "metadata": {
            "tags": []
          },
          "execution_count": 82
        }
      ]
    },
    {
      "cell_type": "markdown",
      "metadata": {
        "id": "lQacVToBqRUP"
      },
      "source": [
        "### 分數設計\n",
        "透過投票人數和評分來算分<BR>\n",
        "由於投票人數過於懸殊，決定取log並正規化壓到0~1之間<BR>\n",
        "而分數則進行標準化。<BR><BR>\n",
        "$score=\\frac{numVotes(log10)}{max(numVotes(log10)}\\times\\frac{averageRating-mean(averageRating))}{std(averageRating)}$"
      ]
    },
    {
      "cell_type": "code",
      "metadata": {
        "id": "ktBDhpk5lX4M"
      },
      "source": [
        "df.loc[:, \"score\"] = (np.log10(df.numVotes)/ np.log10(df.numVotes).max()) * \\\n",
        "            ((df.averageRating - df.averageRating.mean())/df.averageRating.std())"
      ],
      "execution_count": null,
      "outputs": []
    },
    {
      "cell_type": "code",
      "metadata": {
        "colab": {
          "base_uri": "https://localhost:8080/",
          "height": 535
        },
        "id": "-DIeQBwKlX4M",
        "outputId": "1c7736a9-3758-4fd0-ec4f-0a75cae54555"
      },
      "source": [
        "df[df.score >= (df.score.mean() + df.score.std() * 2)] #+2標準差的"
      ],
      "execution_count": null,
      "outputs": [
        {
          "output_type": "execute_result",
          "data": {
            "text/html": [
              "<div>\n",
              "<style scoped>\n",
              "    .dataframe tbody tr th:only-of-type {\n",
              "        vertical-align: middle;\n",
              "    }\n",
              "\n",
              "    .dataframe tbody tr th {\n",
              "        vertical-align: top;\n",
              "    }\n",
              "\n",
              "    .dataframe thead th {\n",
              "        text-align: right;\n",
              "    }\n",
              "</style>\n",
              "<table border=\"1\" class=\"dataframe\">\n",
              "  <thead>\n",
              "    <tr style=\"text-align: right;\">\n",
              "      <th></th>\n",
              "      <th>titleType</th>\n",
              "      <th>primaryTitle</th>\n",
              "      <th>originalTitle</th>\n",
              "      <th>isAdult</th>\n",
              "      <th>startYear</th>\n",
              "      <th>endYear</th>\n",
              "      <th>runtimeMinutes</th>\n",
              "      <th>genres</th>\n",
              "      <th>averageRating</th>\n",
              "      <th>numVotes</th>\n",
              "      <th>score</th>\n",
              "    </tr>\n",
              "    <tr>\n",
              "      <th>ID</th>\n",
              "      <th></th>\n",
              "      <th></th>\n",
              "      <th></th>\n",
              "      <th></th>\n",
              "      <th></th>\n",
              "      <th></th>\n",
              "      <th></th>\n",
              "      <th></th>\n",
              "      <th></th>\n",
              "      <th></th>\n",
              "      <th></th>\n",
              "    </tr>\n",
              "  </thead>\n",
              "  <tbody>\n",
              "    <tr>\n",
              "      <th>65670</th>\n",
              "      <td>movie</td>\n",
              "      <td>Twelve Chairs</td>\n",
              "      <td>12 stulev</td>\n",
              "      <td>0</td>\n",
              "      <td>1971</td>\n",
              "      <td>\\N</td>\n",
              "      <td>159</td>\n",
              "      <td>Adventure,Comedy,Crime</td>\n",
              "      <td>8.3</td>\n",
              "      <td>5784</td>\n",
              "      <td>0.919094</td>\n",
              "    </tr>\n",
              "    <tr>\n",
              "      <th>66078</th>\n",
              "      <td>movie</td>\n",
              "      <td>Michael the Brave</td>\n",
              "      <td>Mihai Viteazul</td>\n",
              "      <td>0</td>\n",
              "      <td>1971</td>\n",
              "      <td>\\N</td>\n",
              "      <td>203</td>\n",
              "      <td>Action,Biography,Drama</td>\n",
              "      <td>8.4</td>\n",
              "      <td>6067</td>\n",
              "      <td>0.966778</td>\n",
              "    </tr>\n",
              "    <tr>\n",
              "      <th>66498</th>\n",
              "      <td>movie</td>\n",
              "      <td>The Ear</td>\n",
              "      <td>Ucho</td>\n",
              "      <td>0</td>\n",
              "      <td>1990</td>\n",
              "      <td>\\N</td>\n",
              "      <td>94</td>\n",
              "      <td>Drama,Thriller</td>\n",
              "      <td>7.8</td>\n",
              "      <td>2469</td>\n",
              "      <td>0.637689</td>\n",
              "    </tr>\n",
              "    <tr>\n",
              "      <th>66730</th>\n",
              "      <td>movie</td>\n",
              "      <td>10 Rillington Place</td>\n",
              "      <td>10 Rillington Place</td>\n",
              "      <td>0</td>\n",
              "      <td>1971</td>\n",
              "      <td>\\N</td>\n",
              "      <td>111</td>\n",
              "      <td>Biography,Crime,Drama</td>\n",
              "      <td>7.6</td>\n",
              "      <td>7479</td>\n",
              "      <td>0.640884</td>\n",
              "    </tr>\n",
              "    <tr>\n",
              "      <th>66758</th>\n",
              "      <td>movie</td>\n",
              "      <td>Amar Prem</td>\n",
              "      <td>Amar Prem</td>\n",
              "      <td>0</td>\n",
              "      <td>1972</td>\n",
              "      <td>\\N</td>\n",
              "      <td>143</td>\n",
              "      <td>Drama,Musical,Romance</td>\n",
              "      <td>8.2</td>\n",
              "      <td>1507</td>\n",
              "      <td>0.740595</td>\n",
              "    </tr>\n",
              "    <tr>\n",
              "      <th>...</th>\n",
              "      <td>...</td>\n",
              "      <td>...</td>\n",
              "      <td>...</td>\n",
              "      <td>...</td>\n",
              "      <td>...</td>\n",
              "      <td>...</td>\n",
              "      <td>...</td>\n",
              "      <td>...</td>\n",
              "      <td>...</td>\n",
              "      <td>...</td>\n",
              "      <td>...</td>\n",
              "    </tr>\n",
              "    <tr>\n",
              "      <th>9866708</th>\n",
              "      <td>movie</td>\n",
              "      <td>Wild Karnataka</td>\n",
              "      <td>Wild Karnataka</td>\n",
              "      <td>0</td>\n",
              "      <td>2020</td>\n",
              "      <td>\\N</td>\n",
              "      <td>53</td>\n",
              "      <td>Documentary,Family</td>\n",
              "      <td>8.8</td>\n",
              "      <td>437</td>\n",
              "      <td>0.793784</td>\n",
              "    </tr>\n",
              "    <tr>\n",
              "      <th>9886872</th>\n",
              "      <td>movie</td>\n",
              "      <td>Munthiri Monchan</td>\n",
              "      <td>Munthiri Monchan</td>\n",
              "      <td>0</td>\n",
              "      <td>2019</td>\n",
              "      <td>\\N</td>\n",
              "      <td>130</td>\n",
              "      <td>Comedy,Romance</td>\n",
              "      <td>8.1</td>\n",
              "      <td>996</td>\n",
              "      <td>0.664908</td>\n",
              "    </tr>\n",
              "    <tr>\n",
              "      <th>9900782</th>\n",
              "      <td>movie</td>\n",
              "      <td>Kaithi</td>\n",
              "      <td>Kaithi</td>\n",
              "      <td>0</td>\n",
              "      <td>2019</td>\n",
              "      <td>\\N</td>\n",
              "      <td>145</td>\n",
              "      <td>Action,Thriller</td>\n",
              "      <td>8.5</td>\n",
              "      <td>10441</td>\n",
              "      <td>1.072302</td>\n",
              "    </tr>\n",
              "    <tr>\n",
              "      <th>9904844</th>\n",
              "      <td>movie</td>\n",
              "      <td>Ott Tänak: The Movie</td>\n",
              "      <td>Ott Tänak: The Movie</td>\n",
              "      <td>0</td>\n",
              "      <td>2019</td>\n",
              "      <td>\\N</td>\n",
              "      <td>125</td>\n",
              "      <td>Documentary,Sport</td>\n",
              "      <td>8.4</td>\n",
              "      <td>424</td>\n",
              "      <td>0.671450</td>\n",
              "    </tr>\n",
              "    <tr>\n",
              "      <th>9905462</th>\n",
              "      <td>movie</td>\n",
              "      <td>Pengalila</td>\n",
              "      <td>Pengalila</td>\n",
              "      <td>0</td>\n",
              "      <td>2019</td>\n",
              "      <td>\\N</td>\n",
              "      <td>111</td>\n",
              "      <td>Drama</td>\n",
              "      <td>8.4</td>\n",
              "      <td>579</td>\n",
              "      <td>0.706031</td>\n",
              "    </tr>\n",
              "  </tbody>\n",
              "</table>\n",
              "<p>3707 rows × 11 columns</p>\n",
              "</div>"
            ],
            "text/plain": [
              "        titleType          primaryTitle  ... numVotes     score\n",
              "ID                                       ...                   \n",
              "65670       movie         Twelve Chairs  ...     5784  0.919094\n",
              "66078       movie     Michael the Brave  ...     6067  0.966778\n",
              "66498       movie               The Ear  ...     2469  0.637689\n",
              "66730       movie   10 Rillington Place  ...     7479  0.640884\n",
              "66758       movie             Amar Prem  ...     1507  0.740595\n",
              "...           ...                   ...  ...      ...       ...\n",
              "9866708     movie        Wild Karnataka  ...      437  0.793784\n",
              "9886872     movie      Munthiri Monchan  ...      996  0.664908\n",
              "9900782     movie                Kaithi  ...    10441  1.072302\n",
              "9904844     movie  Ott Tänak: The Movie  ...      424  0.671450\n",
              "9905462     movie             Pengalila  ...      579  0.706031\n",
              "\n",
              "[3707 rows x 11 columns]"
            ]
          },
          "metadata": {
            "tags": []
          },
          "execution_count": 84
        }
      ]
    },
    {
      "cell_type": "code",
      "metadata": {
        "colab": {
          "base_uri": "https://localhost:8080/",
          "height": 347
        },
        "id": "29bwWcYxlX4N",
        "outputId": "23b5c5f0-600a-42bf-cf5b-c072da55662e"
      },
      "source": [
        "plt.boxplot(df.score)\n",
        "plt.show()"
      ],
      "execution_count": null,
      "outputs": [
        {
          "output_type": "display_data",
          "data": {
            "image/png": "[encoded data removed]",
            "text/plain": [
              "<Figure size 576x396 with 1 Axes>"
            ]
          },
          "metadata": {
            "tags": []
          }
        }
      ]
    },
    {
      "cell_type": "code",
      "metadata": {
        "colab": {
          "base_uri": "https://localhost:8080/",
          "height": 532
        },
        "id": "1tHIegB1sglg",
        "outputId": "95aa411d-9513-41a8-a58e-caa5f39f0297"
      },
      "source": [
        "df.sort_values(by=\"score\", ascending=False)"
      ],
      "execution_count": null,
      "outputs": [
        {
          "output_type": "execute_result",
          "data": {
            "text/html": [
              "<div>\n",
              "<style scoped>\n",
              "    .dataframe tbody tr th:only-of-type {\n",
              "        vertical-align: middle;\n",
              "    }\n",
              "\n",
              "    .dataframe tbody tr th {\n",
              "        vertical-align: top;\n",
              "    }\n",
              "\n",
              "    .dataframe thead th {\n",
              "        text-align: right;\n",
              "    }\n",
              "</style>\n",
              "<table border=\"1\" class=\"dataframe\">\n",
              "  <thead>\n",
              "    <tr style=\"text-align: right;\">\n",
              "      <th></th>\n",
              "      <th>titleType</th>\n",
              "      <th>primaryTitle</th>\n",
              "      <th>originalTitle</th>\n",
              "      <th>isAdult</th>\n",
              "      <th>startYear</th>\n",
              "      <th>endYear</th>\n",
              "      <th>runtimeMinutes</th>\n",
              "      <th>genres</th>\n",
              "      <th>averageRating</th>\n",
              "      <th>numVotes</th>\n",
              "      <th>score</th>\n",
              "    </tr>\n",
              "    <tr>\n",
              "      <th>ID</th>\n",
              "      <th></th>\n",
              "      <th></th>\n",
              "      <th></th>\n",
              "      <th></th>\n",
              "      <th></th>\n",
              "      <th></th>\n",
              "      <th></th>\n",
              "      <th></th>\n",
              "      <th></th>\n",
              "      <th></th>\n",
              "      <th></th>\n",
              "    </tr>\n",
              "  </thead>\n",
              "  <tbody>\n",
              "    <tr>\n",
              "      <th>111161</th>\n",
              "      <td>movie</td>\n",
              "      <td>The Shawshank Redemption</td>\n",
              "      <td>The Shawshank Redemption</td>\n",
              "      <td>0</td>\n",
              "      <td>1994</td>\n",
              "      <td>\\N</td>\n",
              "      <td>142</td>\n",
              "      <td>Drama</td>\n",
              "      <td>9.3</td>\n",
              "      <td>2312613</td>\n",
              "      <td>2.271646</td>\n",
              "    </tr>\n",
              "    <tr>\n",
              "      <th>68646</th>\n",
              "      <td>movie</td>\n",
              "      <td>The Godfather</td>\n",
              "      <td>The Godfather</td>\n",
              "      <td>0</td>\n",
              "      <td>1972</td>\n",
              "      <td>\\N</td>\n",
              "      <td>175</td>\n",
              "      <td>Crime,Drama</td>\n",
              "      <td>9.2</td>\n",
              "      <td>1596491</td>\n",
              "      <td>2.144321</td>\n",
              "    </tr>\n",
              "    <tr>\n",
              "      <th>468569</th>\n",
              "      <td>movie</td>\n",
              "      <td>The Dark Knight</td>\n",
              "      <td>The Dark Knight</td>\n",
              "      <td>0</td>\n",
              "      <td>2008</td>\n",
              "      <td>\\N</td>\n",
              "      <td>152</td>\n",
              "      <td>Action,Crime,Drama</td>\n",
              "      <td>9.0</td>\n",
              "      <td>2275200</td>\n",
              "      <td>2.054279</td>\n",
              "    </tr>\n",
              "    <tr>\n",
              "      <th>71562</th>\n",
              "      <td>movie</td>\n",
              "      <td>The Godfather: Part II</td>\n",
              "      <td>The Godfather: Part II</td>\n",
              "      <td>0</td>\n",
              "      <td>1974</td>\n",
              "      <td>\\N</td>\n",
              "      <td>202</td>\n",
              "      <td>Crime,Drama</td>\n",
              "      <td>9.0</td>\n",
              "      <td>1115253</td>\n",
              "      <td>1.954216</td>\n",
              "    </tr>\n",
              "    <tr>\n",
              "      <th>110912</th>\n",
              "      <td>movie</td>\n",
              "      <td>Pulp Fiction</td>\n",
              "      <td>Pulp Fiction</td>\n",
              "      <td>0</td>\n",
              "      <td>1994</td>\n",
              "      <td>\\N</td>\n",
              "      <td>154</td>\n",
              "      <td>Crime,Drama</td>\n",
              "      <td>8.9</td>\n",
              "      <td>1804679</td>\n",
              "      <td>1.951284</td>\n",
              "    </tr>\n",
              "    <tr>\n",
              "      <th>...</th>\n",
              "      <td>...</td>\n",
              "      <td>...</td>\n",
              "      <td>...</td>\n",
              "      <td>...</td>\n",
              "      <td>...</td>\n",
              "      <td>...</td>\n",
              "      <td>...</td>\n",
              "      <td>...</td>\n",
              "      <td>...</td>\n",
              "      <td>...</td>\n",
              "      <td>...</td>\n",
              "    </tr>\n",
              "    <tr>\n",
              "      <th>1213644</th>\n",
              "      <td>movie</td>\n",
              "      <td>Disaster Movie</td>\n",
              "      <td>Disaster Movie</td>\n",
              "      <td>0</td>\n",
              "      <td>2008</td>\n",
              "      <td>\\N</td>\n",
              "      <td>87</td>\n",
              "      <td>Comedy</td>\n",
              "      <td>1.9</td>\n",
              "      <td>86735</td>\n",
              "      <td>-2.353921</td>\n",
              "    </tr>\n",
              "    <tr>\n",
              "      <th>1702443</th>\n",
              "      <td>movie</td>\n",
              "      <td>Justin Bieber: Never Say Never</td>\n",
              "      <td>Justin Bieber: Never Say Never</td>\n",
              "      <td>0</td>\n",
              "      <td>2011</td>\n",
              "      <td>\\N</td>\n",
              "      <td>105</td>\n",
              "      <td>Documentary,Music</td>\n",
              "      <td>1.6</td>\n",
              "      <td>75063</td>\n",
              "      <td>-2.488768</td>\n",
              "    </tr>\n",
              "    <tr>\n",
              "      <th>5988370</th>\n",
              "      <td>movie</td>\n",
              "      <td>Reis</td>\n",
              "      <td>Reis</td>\n",
              "      <td>0</td>\n",
              "      <td>2017</td>\n",
              "      <td>\\N</td>\n",
              "      <td>108</td>\n",
              "      <td>Biography,Drama</td>\n",
              "      <td>1.4</td>\n",
              "      <td>72265</td>\n",
              "      <td>-2.589820</td>\n",
              "    </tr>\n",
              "    <tr>\n",
              "      <th>7221896</th>\n",
              "      <td>movie</td>\n",
              "      <td>Cumali Ceber</td>\n",
              "      <td>Cumali Ceber: Allah Seni Alsin</td>\n",
              "      <td>0</td>\n",
              "      <td>2017</td>\n",
              "      <td>\\N</td>\n",
              "      <td>100</td>\n",
              "      <td>Comedy</td>\n",
              "      <td>1.0</td>\n",
              "      <td>37721</td>\n",
              "      <td>-2.645553</td>\n",
              "    </tr>\n",
              "    <tr>\n",
              "      <th>7886848</th>\n",
              "      <td>movie</td>\n",
              "      <td>Sadak 2</td>\n",
              "      <td>Sadak 2</td>\n",
              "      <td>0</td>\n",
              "      <td>2020</td>\n",
              "      <td>\\N</td>\n",
              "      <td>133</td>\n",
              "      <td>Action,Drama</td>\n",
              "      <td>1.1</td>\n",
              "      <td>60940</td>\n",
              "      <td>-2.712072</td>\n",
              "    </tr>\n",
              "  </tbody>\n",
              "</table>\n",
              "<p>203400 rows × 11 columns</p>\n",
              "</div>"
            ],
            "text/plain": [
              "        titleType                    primaryTitle  ... numVotes     score\n",
              "ID                                                 ...                   \n",
              "111161      movie        The Shawshank Redemption  ...  2312613  2.271646\n",
              "68646       movie                   The Godfather  ...  1596491  2.144321\n",
              "468569      movie                 The Dark Knight  ...  2275200  2.054279\n",
              "71562       movie          The Godfather: Part II  ...  1115253  1.954216\n",
              "110912      movie                    Pulp Fiction  ...  1804679  1.951284\n",
              "...           ...                             ...  ...      ...       ...\n",
              "1213644     movie                  Disaster Movie  ...    86735 -2.353921\n",
              "1702443     movie  Justin Bieber: Never Say Never  ...    75063 -2.488768\n",
              "5988370     movie                            Reis  ...    72265 -2.589820\n",
              "7221896     movie                    Cumali Ceber  ...    37721 -2.645553\n",
              "7886848     movie                         Sadak 2  ...    60940 -2.712072\n",
              "\n",
              "[203400 rows x 11 columns]"
            ]
          },
          "metadata": {
            "tags": []
          },
          "execution_count": 86
        }
      ]
    },
    {
      "cell_type": "code",
      "metadata": {
        "colab": {
          "base_uri": "https://localhost:8080/"
        },
        "id": "AB4EMUZrlX4O",
        "outputId": "09bc27f0-8fef-456d-aa7b-7f966eef6b35"
      },
      "source": [
        "df.score.describe()"
      ],
      "execution_count": null,
      "outputs": [
        {
          "output_type": "execute_result",
          "data": {
            "text/plain": [
              "count    203400.000000\n",
              "mean         -0.008024\n",
              "std           0.314451\n",
              "min          -2.712072\n",
              "25%          -0.162012\n",
              "50%           0.025570\n",
              "75%           0.176703\n",
              "max           2.271646\n",
              "Name: score, dtype: float64"
            ]
          },
          "metadata": {
            "tags": []
          },
          "execution_count": 87
        }
      ]
    },
    {
      "cell_type": "code",
      "metadata": {
        "colab": {
          "base_uri": "https://localhost:8080/",
          "height": 658
        },
        "id": "7jOhnmDjlX4P",
        "outputId": "5e7af021-07cd-4798-fd4e-a1e8e9f3e7b1"
      },
      "source": [
        "df[(df.score > 1.8)].sort_values(by=\"score\", ascending=False) # 篩出最高分的幾部，大概都是鄉民公認神片了"
      ],
      "execution_count": null,
      "outputs": [
        {
          "output_type": "execute_result",
          "data": {
            "text/html": [
              "<div>\n",
              "<style scoped>\n",
              "    .dataframe tbody tr th:only-of-type {\n",
              "        vertical-align: middle;\n",
              "    }\n",
              "\n",
              "    .dataframe tbody tr th {\n",
              "        vertical-align: top;\n",
              "    }\n",
              "\n",
              "    .dataframe thead th {\n",
              "        text-align: right;\n",
              "    }\n",
              "</style>\n",
              "<table border=\"1\" class=\"dataframe\">\n",
              "  <thead>\n",
              "    <tr style=\"text-align: right;\">\n",
              "      <th></th>\n",
              "      <th>titleType</th>\n",
              "      <th>primaryTitle</th>\n",
              "      <th>originalTitle</th>\n",
              "      <th>isAdult</th>\n",
              "      <th>startYear</th>\n",
              "      <th>endYear</th>\n",
              "      <th>runtimeMinutes</th>\n",
              "      <th>genres</th>\n",
              "      <th>averageRating</th>\n",
              "      <th>numVotes</th>\n",
              "      <th>score</th>\n",
              "    </tr>\n",
              "    <tr>\n",
              "      <th>ID</th>\n",
              "      <th></th>\n",
              "      <th></th>\n",
              "      <th></th>\n",
              "      <th></th>\n",
              "      <th></th>\n",
              "      <th></th>\n",
              "      <th></th>\n",
              "      <th></th>\n",
              "      <th></th>\n",
              "      <th></th>\n",
              "      <th></th>\n",
              "    </tr>\n",
              "  </thead>\n",
              "  <tbody>\n",
              "    <tr>\n",
              "      <th>111161</th>\n",
              "      <td>movie</td>\n",
              "      <td>The Shawshank Redemption</td>\n",
              "      <td>The Shawshank Redemption</td>\n",
              "      <td>0</td>\n",
              "      <td>1994</td>\n",
              "      <td>\\N</td>\n",
              "      <td>142</td>\n",
              "      <td>Drama</td>\n",
              "      <td>9.3</td>\n",
              "      <td>2312613</td>\n",
              "      <td>2.271646</td>\n",
              "    </tr>\n",
              "    <tr>\n",
              "      <th>68646</th>\n",
              "      <td>movie</td>\n",
              "      <td>The Godfather</td>\n",
              "      <td>The Godfather</td>\n",
              "      <td>0</td>\n",
              "      <td>1972</td>\n",
              "      <td>\\N</td>\n",
              "      <td>175</td>\n",
              "      <td>Crime,Drama</td>\n",
              "      <td>9.2</td>\n",
              "      <td>1596491</td>\n",
              "      <td>2.144321</td>\n",
              "    </tr>\n",
              "    <tr>\n",
              "      <th>468569</th>\n",
              "      <td>movie</td>\n",
              "      <td>The Dark Knight</td>\n",
              "      <td>The Dark Knight</td>\n",
              "      <td>0</td>\n",
              "      <td>2008</td>\n",
              "      <td>\\N</td>\n",
              "      <td>152</td>\n",
              "      <td>Action,Crime,Drama</td>\n",
              "      <td>9.0</td>\n",
              "      <td>2275200</td>\n",
              "      <td>2.054279</td>\n",
              "    </tr>\n",
              "    <tr>\n",
              "      <th>71562</th>\n",
              "      <td>movie</td>\n",
              "      <td>The Godfather: Part II</td>\n",
              "      <td>The Godfather: Part II</td>\n",
              "      <td>0</td>\n",
              "      <td>1974</td>\n",
              "      <td>\\N</td>\n",
              "      <td>202</td>\n",
              "      <td>Crime,Drama</td>\n",
              "      <td>9.0</td>\n",
              "      <td>1115253</td>\n",
              "      <td>1.954216</td>\n",
              "    </tr>\n",
              "    <tr>\n",
              "      <th>110912</th>\n",
              "      <td>movie</td>\n",
              "      <td>Pulp Fiction</td>\n",
              "      <td>Pulp Fiction</td>\n",
              "      <td>0</td>\n",
              "      <td>1994</td>\n",
              "      <td>\\N</td>\n",
              "      <td>154</td>\n",
              "      <td>Crime,Drama</td>\n",
              "      <td>8.9</td>\n",
              "      <td>1804679</td>\n",
              "      <td>1.951284</td>\n",
              "    </tr>\n",
              "    <tr>\n",
              "      <th>167260</th>\n",
              "      <td>movie</td>\n",
              "      <td>The Lord of the Rings: The Return of the King</td>\n",
              "      <td>The Lord of the Rings: The Return of the King</td>\n",
              "      <td>0</td>\n",
              "      <td>2003</td>\n",
              "      <td>\\N</td>\n",
              "      <td>201</td>\n",
              "      <td>Action,Adventure,Drama</td>\n",
              "      <td>8.9</td>\n",
              "      <td>1623819</td>\n",
              "      <td>1.936980</td>\n",
              "    </tr>\n",
              "    <tr>\n",
              "      <th>1375666</th>\n",
              "      <td>movie</td>\n",
              "      <td>Inception</td>\n",
              "      <td>Inception</td>\n",
              "      <td>0</td>\n",
              "      <td>2010</td>\n",
              "      <td>\\N</td>\n",
              "      <td>148</td>\n",
              "      <td>Action,Adventure,Sci-Fi</td>\n",
              "      <td>8.8</td>\n",
              "      <td>2037541</td>\n",
              "      <td>1.896649</td>\n",
              "    </tr>\n",
              "    <tr>\n",
              "      <th>108052</th>\n",
              "      <td>movie</td>\n",
              "      <td>Schindler's List</td>\n",
              "      <td>Schindler's List</td>\n",
              "      <td>0</td>\n",
              "      <td>1993</td>\n",
              "      <td>\\N</td>\n",
              "      <td>195</td>\n",
              "      <td>Biography,Drama,History</td>\n",
              "      <td>8.9</td>\n",
              "      <td>1199585</td>\n",
              "      <td>1.895965</td>\n",
              "    </tr>\n",
              "    <tr>\n",
              "      <th>137523</th>\n",
              "      <td>movie</td>\n",
              "      <td>Fight Club</td>\n",
              "      <td>Fight Club</td>\n",
              "      <td>0</td>\n",
              "      <td>1999</td>\n",
              "      <td>\\N</td>\n",
              "      <td>139</td>\n",
              "      <td>Drama</td>\n",
              "      <td>8.8</td>\n",
              "      <td>1832224</td>\n",
              "      <td>1.882782</td>\n",
              "    </tr>\n",
              "    <tr>\n",
              "      <th>109830</th>\n",
              "      <td>movie</td>\n",
              "      <td>Forrest Gump</td>\n",
              "      <td>Forrest Gump</td>\n",
              "      <td>0</td>\n",
              "      <td>1994</td>\n",
              "      <td>\\N</td>\n",
              "      <td>142</td>\n",
              "      <td>Drama,Romance</td>\n",
              "      <td>8.8</td>\n",
              "      <td>1782832</td>\n",
              "      <td>1.879215</td>\n",
              "    </tr>\n",
              "    <tr>\n",
              "      <th>120737</th>\n",
              "      <td>movie</td>\n",
              "      <td>The Lord of the Rings: The Fellowship of the Ring</td>\n",
              "      <td>The Lord of the Rings: The Fellowship of the Ring</td>\n",
              "      <td>0</td>\n",
              "      <td>2001</td>\n",
              "      <td>\\N</td>\n",
              "      <td>178</td>\n",
              "      <td>Action,Adventure,Drama</td>\n",
              "      <td>8.8</td>\n",
              "      <td>1639901</td>\n",
              "      <td>1.868304</td>\n",
              "    </tr>\n",
              "  </tbody>\n",
              "</table>\n",
              "</div>"
            ],
            "text/plain": [
              "        titleType  ...     score\n",
              "ID                 ...          \n",
              "111161      movie  ...  2.271646\n",
              "68646       movie  ...  2.144321\n",
              "468569      movie  ...  2.054279\n",
              "71562       movie  ...  1.954216\n",
              "110912      movie  ...  1.951284\n",
              "167260      movie  ...  1.936980\n",
              "1375666     movie  ...  1.896649\n",
              "108052      movie  ...  1.895965\n",
              "137523      movie  ...  1.882782\n",
              "109830      movie  ...  1.879215\n",
              "120737      movie  ...  1.868304\n",
              "\n",
              "[11 rows x 11 columns]"
            ]
          },
          "metadata": {
            "tags": []
          },
          "execution_count": 94
        }
      ]
    },
    {
      "cell_type": "code",
      "metadata": {
        "id": "pADumMs4lX4Q"
      },
      "source": [
        "#最後選出大於1.2的存檔，encoding是windows下容易出錯才存這個格式\n",
        "df[(df.score > 1.2)].to_csv(\"top206.csv\", encoding=\"utf_8_sig\")"
      ],
      "execution_count": null,
      "outputs": []
    }
  ]
}